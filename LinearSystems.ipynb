{
  "nbformat": 4,
  "nbformat_minor": 0,
  "metadata": {
    "colab": {
      "name": "Tarea Computacional Sistemas Lineales.ipynb",
      "provenance": [],
      "collapsed_sections": [],
      "toc_visible": true
    },
    "kernelspec": {
      "name": "python3",
      "display_name": "Python 3"
    },
    "language_info": {
      "name": "python"
    }
  },
  "cells": [
    {
      "cell_type": "markdown",
      "metadata": {
        "id": "6J3h-0V2DIla"
      },
      "source": [
        "<h2>\n",
        "<center>\n",
        "<b>\n",
        "<i>\n",
        "Universidad Nacional de Colombia Sede Bogotá\n",
        "<center>\n",
        "Análisis Numérico 2021-1\n",
        "<center>\n",
        "Tarea computacional Sistemas Lineales"
      ]
    },
    {
      "cell_type": "markdown",
      "metadata": {
        "id": "uxePHcZhDnqY"
      },
      "source": [
        "**De La Hoz Luengas, Víctor Andrés** \\\\\n",
        "**Matrícula 9 de MATEMÁTICAS**"
      ]
    },
    {
      "cell_type": "markdown",
      "metadata": {
        "id": "HwIpjQeYDrIA"
      },
      "source": [
        "*A continuación se presentan las librerías necesarias para la solución de los ejercicios, junto con los métodos implementados necesarios. Los métodos usados se tomaron a partir de los presentados en el colab creado por el profesor Juan Galvis.*"
      ]
    },
    {
      "cell_type": "code",
      "metadata": {
        "id": "wP508P-iDxRh"
      },
      "source": [
        "import matplotlib.pyplot as plt\n",
        "import numpy as np\n",
        "import scipy.linalg as la\n",
        "import scipy.io as io\n",
        "from scipy.linalg import hilbert\n",
        "import scipy.sparse as sp\n",
        "np.set_printoptions(formatter={'float': '{: 0.4f}'.format})\n",
        "import pprint\n",
        "import urllib.request\n",
        "import pandas as pd\n",
        "from sympy import Matrix"
      ],
      "execution_count": null,
      "outputs": []
    },
    {
      "cell_type": "markdown",
      "metadata": {
        "id": "uE_mUWJxD10g"
      },
      "source": [
        "## **Problema 1**\n",
        "Considere la matriz de segundas diferencias $A$ definida por \n",
        "\n",
        "$$a_{ij}=\\left\\{\\begin{array}{cl}\n",
        "-2, & i=j,\\\\\n",
        "1, & |j-i|=1,\\\\\n",
        "0, & |j-i|>1.\n",
        "\\end{array} \\right.$$\n",
        "\n",
        "Considere tambien la matriz de Frank de dimension $n\\times n$, \n",
        "\n",
        "$$\n",
        "A=\\left(\\begin{array}{cccccccccc}\n",
        "n & n-1 & n-2 & n-3 & n-4& \\dots 1\\\\\n",
        "n-1 & n-1 &n-2 &n-3 & n-4 &\\dots 1\\\\\n",
        "0 & n-2 & n-2 & n-3 & n-4 & \\dots 1\\\\\n",
        "0&0&n-3 &n-3 & n-4&\\dots 1 \\\\\n",
        "\\vdots& \\ddots&\\ddots &\\ddots &\\ddots &\\dots\n",
        "\\end{array}\\right)\n",
        "$$\n",
        "\n",
        "\n",
        "Note que en la diagonal principal, es decir, la diagonal 0 tenemos los números $n,n-1,\\dots,1$, en la diagonal $1$ y $-1$ tenemos $n-1,n-2,\\dots,1$. En la diagonal $k>1$ tenemos $n-k,n-k-1,\\dots,1$ y en la diagonal $-k$ con $k>1$ tenemos entradas nulas. Esta matriz es un ejemplo de matriz de Hessenberg."
      ]
    },
    {
      "cell_type": "markdown",
      "metadata": {
        "id": "_e4YRuPnER7v"
      },
      "source": [
        "**1.** ¿Qué propiedades puede listar de las matrices de segundas diferencias y de Frank?"
      ]
    },
    {
      "cell_type": "markdown",
      "metadata": {
        "id": "hCkwugzgEqCA"
      },
      "source": [
        "###<font color='red'><center><h2><b>*Solución*</font>"
      ]
    },
    {
      "cell_type": "markdown",
      "metadata": {
        "id": "ZV7EC0BPErgY"
      },
      "source": [
        "*En primer lugar, considere el siguiente código que genera la matriz de segundas diferencias de orden n*"
      ]
    },
    {
      "cell_type": "code",
      "metadata": {
        "id": "ULf9SCBJmP_U"
      },
      "source": [
        "# Función para crear una matriz de segundas diferencias de orden n:\n",
        "def secdif(n):\n",
        "  A = np.zeros((n,n))\n",
        "  for i in range(0,n):\n",
        "    for j in range(0,n):\n",
        "      if i == j:\n",
        "        A[i,j] = -2\n",
        "      elif np.abs(j-i) == 1:\n",
        "        A[i,j] = 1\n",
        "  return A"
      ],
      "execution_count": null,
      "outputs": []
    },
    {
      "cell_type": "markdown",
      "metadata": {
        "id": "CacP-f5_Aey8"
      },
      "source": [
        "*En segundo lugar, considere este código para una matriz de Frank de orden n*"
      ]
    },
    {
      "cell_type": "code",
      "metadata": {
        "id": "nVUl2nMNoXcK"
      },
      "source": [
        "# Función para crear matriz de Frank de orden n:\n",
        "def frank(n):\n",
        "  A = np.zeros((n,n))\n",
        "  A[0,0] = n\n",
        "  for i in range(0,n):\n",
        "    for j in range(0,n):\n",
        "      if i == j:\n",
        "        A[i,j] = n-i\n",
        "      elif j-i == 1:\n",
        "        A[i,j] = n-i-1\n",
        "      elif i-j == 1:\n",
        "        A[i,j] = n-j-1\n",
        "      elif j > i:\n",
        "        A[i,j] = n-j\n",
        "  return A"
      ],
      "execution_count": null,
      "outputs": []
    },
    {
      "cell_type": "markdown",
      "metadata": {
        "id": "r4E5ocWqAvKN"
      },
      "source": [
        "*Las propiedades para estas dos matrices son, por definición:*\n",
        "\n",
        "*   Diagonial Dominante\n",
        "*   Simétrica\n",
        "\n",
        "*Y como las entradas en sus diagonales son positivas, también son Definidas Postivas.*\n",
        "\n",
        "\n",
        "*Ahora, las siguientes propiedades se pueden comprobar por medio de operaciones:*"
      ]
    },
    {
      "cell_type": "code",
      "metadata": {
        "colab": {
          "base_uri": "https://localhost:8080/"
        },
        "id": "fnM5yS7qniaT",
        "outputId": "66d17267-92f1-4f73-a0c0-7556921c3785"
      },
      "source": [
        "# Hermitianas\n",
        "\n",
        "# Matriz de segundas diferencias\n",
        "print('A=', secdif(5))\n",
        "print('\\n (A^T)*=', np.matrix.conjugate(np.matrix.transpose(secdif(5))))\n",
        "\n",
        "# Matriz de Frank\n",
        "print('\\n \\n A=', frank(5))\n",
        "print('\\n (A^T)*=', np.matrix.conjugate(np.matrix.transpose(frank(5))))"
      ],
      "execution_count": null,
      "outputs": [
        {
          "output_type": "stream",
          "text": [
            "A= [[-2.0000  1.0000  0.0000  0.0000  0.0000]\n",
            " [ 1.0000 -2.0000  1.0000  0.0000  0.0000]\n",
            " [ 0.0000  1.0000 -2.0000  1.0000  0.0000]\n",
            " [ 0.0000  0.0000  1.0000 -2.0000  1.0000]\n",
            " [ 0.0000  0.0000  0.0000  1.0000 -2.0000]]\n",
            "\n",
            " (A^T)*= [[-2.0000  1.0000  0.0000  0.0000  0.0000]\n",
            " [ 1.0000 -2.0000  1.0000  0.0000  0.0000]\n",
            " [ 0.0000  1.0000 -2.0000  1.0000  0.0000]\n",
            " [ 0.0000  0.0000  1.0000 -2.0000  1.0000]\n",
            " [ 0.0000  0.0000  0.0000  1.0000 -2.0000]]\n",
            "\n",
            " \n",
            " A= [[ 5.0000  4.0000  3.0000  2.0000  1.0000]\n",
            " [ 4.0000  4.0000  3.0000  2.0000  1.0000]\n",
            " [ 0.0000  3.0000  3.0000  2.0000  1.0000]\n",
            " [ 0.0000  0.0000  2.0000  2.0000  1.0000]\n",
            " [ 0.0000  0.0000  0.0000  1.0000  1.0000]]\n",
            "\n",
            " (A^T)*= [[ 5.0000  4.0000  0.0000  0.0000  0.0000]\n",
            " [ 4.0000  4.0000  3.0000  0.0000  0.0000]\n",
            " [ 3.0000  3.0000  3.0000  2.0000  0.0000]\n",
            " [ 2.0000  2.0000  2.0000  2.0000  1.0000]\n",
            " [ 1.0000  1.0000  1.0000  1.0000  1.0000]]\n"
          ],
          "name": "stdout"
        }
      ]
    },
    {
      "cell_type": "code",
      "metadata": {
        "colab": {
          "base_uri": "https://localhost:8080/"
        },
        "id": "AGIMiBYKoZ5M",
        "outputId": "4de34264-f1b2-4ea4-9f1c-fe6381e4c017"
      },
      "source": [
        "# Invertibles\n",
        "\n",
        "print('El determinante de la matriz de segundas diferencias de orden 5 es ', la.det(secdif(5)))\n",
        "print('El determinante de la matriz de Frank de orden 5 es ', la.det(frank(5)))"
      ],
      "execution_count": null,
      "outputs": [
        {
          "output_type": "stream",
          "text": [
            "El determinante de la matriz de segundas diferencias de orden 5 es  -6.0\n",
            "El determinante de la matriz de Frank de orden 5 es  1.0000000000000033\n"
          ],
          "name": "stdout"
        }
      ]
    },
    {
      "cell_type": "markdown",
      "metadata": {
        "id": "yZ2Wt3dsEsT_"
      },
      "source": [
        "**2.** Investigue como medir el tiempo de ejecución de un comando en python o MatLab y  calcule el tiempo de resolver un sistema  $Ax=b$ con $A$ una matriz de segundas diferencias de segundo orden de dimension $n=2,4,8,1,32,64,128,\\dots$. Tome  $b=(1,1,\\dots,1)^T.$"
      ]
    },
    {
      "cell_type": "markdown",
      "metadata": {
        "id": "igS8pvhxE12v"
      },
      "source": [
        "###<font color='red'><center><h2><b>*Solución*</font>"
      ]
    },
    {
      "cell_type": "markdown",
      "metadata": {
        "id": "SJ8YlkTGE4Jn"
      },
      "source": [
        "*El comando que se usará para calcular el tiempo de ejecucuión en Python es el siguiente:*"
      ]
    },
    {
      "cell_type": "code",
      "metadata": {
        "colab": {
          "base_uri": "https://localhost:8080/"
        },
        "id": "am8829scUJIy",
        "outputId": "4000b585-3af4-4313-997b-ffed8a8a1e49"
      },
      "source": [
        "import time\n",
        "start_time = time.time()\n",
        "print(\"Tiempo para resolver una matriz de () de orden\",\"es %s segundos\" % (time.time() - start_time))"
      ],
      "execution_count": null,
      "outputs": [
        {
          "output_type": "stream",
          "text": [
            "Tiempo para resolver una matriz de () de orden es 5.91278076171875e-05 segundos\n"
          ],
          "name": "stdout"
        }
      ]
    },
    {
      "cell_type": "markdown",
      "metadata": {
        "id": "drUhOyurULcY"
      },
      "source": [
        "*Por lo tanto, para la matriz de segundas diferencias, tenemos:*"
      ]
    },
    {
      "cell_type": "code",
      "metadata": {
        "colab": {
          "base_uri": "https://localhost:8080/"
        },
        "id": "tQ6Bg3sTUWWN",
        "outputId": "a59177a9-86cd-4e40-f8e6-a012fe332738"
      },
      "source": [
        "# Ciclo para poder asignar cada orden y evaluar el tiempo de resolucion del sistema\n",
        "for i in range(0,10):\n",
        "  start_time = time.time()\n",
        "  x = la.solve(secdif(2**i), np.ones(2**i))\n",
        "  print(\"Tiempo para resolver una matriz de segundas diferencias de orden \",2**i,\" es %s segundos\" % (time.time() - start_time))\n"
      ],
      "execution_count": null,
      "outputs": [
        {
          "output_type": "stream",
          "text": [
            "Tiempo para resolver una matriz de segundas diferencias de orden  1  es 0.0012764930725097656 segundos\n",
            "Tiempo para resolver una matriz de segundas diferencias de orden  2  es 0.0003314018249511719 segundos\n",
            "Tiempo para resolver una matriz de segundas diferencias de orden  4  es 0.0002548694610595703 segundos\n",
            "Tiempo para resolver una matriz de segundas diferencias de orden  8  es 0.0003275871276855469 segundos\n",
            "Tiempo para resolver una matriz de segundas diferencias de orden  16  es 0.00194549560546875 segundos\n",
            "Tiempo para resolver una matriz de segundas diferencias de orden  32  es 0.003947019577026367 segundos\n",
            "Tiempo para resolver una matriz de segundas diferencias de orden  64  es 0.010005474090576172 segundos\n",
            "Tiempo para resolver una matriz de segundas diferencias de orden  128  es 0.03633999824523926 segundos\n",
            "Tiempo para resolver una matriz de segundas diferencias de orden  256  es 0.14086413383483887 segundos\n",
            "Tiempo para resolver una matriz de segundas diferencias de orden  512  es 0.38713788986206055 segundos\n"
          ],
          "name": "stdout"
        }
      ]
    },
    {
      "cell_type": "markdown",
      "metadata": {
        "id": "v4CrV_OME7Ff"
      },
      "source": [
        "**3.** Repita con la matriz de Frank."
      ]
    },
    {
      "cell_type": "markdown",
      "metadata": {
        "id": "7ipIIG4bY0oq"
      },
      "source": [
        "###<font color='red'><center><h2><b>*Solución*</font>"
      ]
    },
    {
      "cell_type": "markdown",
      "metadata": {
        "id": "F_XEkclPbZTa"
      },
      "source": [
        "*Para la matriz de Frank, se consideró un orden máximo de $n=16$, puesto que apartir del orden $n=32$ se obtiene un mensaje de alerta como este:*"
      ]
    },
    {
      "cell_type": "code",
      "metadata": {
        "colab": {
          "base_uri": "https://localhost:8080/"
        },
        "id": "579ClqkQpYCr",
        "outputId": "e14f349b-bcff-44f9-c46e-c79a2db67cfb"
      },
      "source": [
        "x = la.solve(frank(32), np.ones(32))"
      ],
      "execution_count": null,
      "outputs": [
        {
          "output_type": "stream",
          "text": [
            "/usr/local/lib/python3.7/dist-packages/ipykernel_launcher.py:1: LinAlgWarning: Ill-conditioned matrix (rcond=4.16341e-19): result may not be accurate.\n",
            "  \"\"\"Entry point for launching an IPython kernel.\n"
          ],
          "name": "stderr"
        }
      ]
    },
    {
      "cell_type": "markdown",
      "metadata": {
        "id": "-tromTPwrbcc"
      },
      "source": [
        "*Lo que afecta el método de solución y por lo tanto su tiempo de ejecucuión, así:*"
      ]
    },
    {
      "cell_type": "code",
      "metadata": {
        "colab": {
          "base_uri": "https://localhost:8080/"
        },
        "id": "dOBgXtG3YM4w",
        "outputId": "df9804f5-4006-4d19-813f-40cc27222774"
      },
      "source": [
        "# Ciclo para poder asignar cada orden y evaluar el tiempo de resolucion del sistema\n",
        "for i in range(0,5):\n",
        "  start_time = time.time()\n",
        "  x = la.solve(frank(2**i), np.ones(2**i))\n",
        "  print(\"Tiempo para resolver una matriz de Frank de orden \",2**i,\" es %s segundos\" % (time.time() - start_time))"
      ],
      "execution_count": null,
      "outputs": [
        {
          "output_type": "stream",
          "text": [
            "Tiempo para resolver una matriz de Frank de orden  1  es 0.000579833984375 segundos\n",
            "Tiempo para resolver una matriz de Frank de orden  2  es 0.0009067058563232422 segundos\n",
            "Tiempo para resolver una matriz de Frank de orden  4  es 0.00019073486328125 segundos\n",
            "Tiempo para resolver una matriz de Frank de orden  8  es 0.000209808349609375 segundos\n",
            "Tiempo para resolver una matriz de Frank de orden  16  es 0.000331878662109375 segundos\n"
          ],
          "name": "stdout"
        }
      ]
    },
    {
      "cell_type": "markdown",
      "metadata": {
        "id": "HP3_8uCDFGGP"
      },
      "source": [
        "**4.** Repita con la matriz de Hilbert."
      ]
    },
    {
      "cell_type": "markdown",
      "metadata": {
        "id": "DcrB5P8VFJeH"
      },
      "source": [
        "###<font color='red'><center><h2><b>*Solución*</font>"
      ]
    },
    {
      "cell_type": "markdown",
      "metadata": {
        "id": "G79zNg2jq9DD"
      },
      "source": [
        "*Para la matriz de Hilbert, se consideró un orden máximo de $n=8$, puesto que apartir del orden $n=16$ se obtiene un mensaje de alerta como este:*"
      ]
    },
    {
      "cell_type": "code",
      "metadata": {
        "colab": {
          "base_uri": "https://localhost:8080/"
        },
        "id": "rvxuY-YjrMw3",
        "outputId": "933e5930-3f5e-46e8-8281-d2a29fb4663a"
      },
      "source": [
        "x = la.solve(hilbert(16), np.ones(16))"
      ],
      "execution_count": null,
      "outputs": [
        {
          "output_type": "stream",
          "text": [
            "/usr/local/lib/python3.7/dist-packages/ipykernel_launcher.py:1: LinAlgWarning: Ill-conditioned matrix (rcond=1.1839e-19): result may not be accurate.\n",
            "  \"\"\"Entry point for launching an IPython kernel.\n"
          ],
          "name": "stderr"
        }
      ]
    },
    {
      "cell_type": "markdown",
      "metadata": {
        "id": "QBe9YBbKrR7F"
      },
      "source": [
        "*Lo que afecta el método de solución y por lo tanto su tiempo de ejecucuión, así:*"
      ]
    },
    {
      "cell_type": "code",
      "metadata": {
        "colab": {
          "base_uri": "https://localhost:8080/"
        },
        "id": "qxExcNI_ZqMM",
        "outputId": "b998bfca-51bc-430f-e527-4a21a32d0482"
      },
      "source": [
        "# Ciclo para poder asignar cada orden y evaluar el tiempo de resolucion del sistema\n",
        "for i in range(0,4):\n",
        "  start_time = time.time()\n",
        "  x = la.solve(hilbert(2**i), np.ones(2**i))\n",
        "  print(\"Tiempo para resolver una matriz de Hilbert de orden \",2**i,\" es %s segundos\" % (time.time() - start_time))"
      ],
      "execution_count": null,
      "outputs": [
        {
          "output_type": "stream",
          "text": [
            "Tiempo para resolver una matriz de Hilbert de orden  1  es 0.0014739036560058594 segundos\n",
            "Tiempo para resolver una matriz de Hilbert de orden  2  es 0.00029969215393066406 segundos\n",
            "Tiempo para resolver una matriz de Hilbert de orden  4  es 0.00023603439331054688 segundos\n",
            "Tiempo para resolver una matriz de Hilbert de orden  8  es 0.0002009868621826172 segundos\n"
          ],
          "name": "stdout"
        }
      ]
    },
    {
      "cell_type": "markdown",
      "metadata": {
        "id": "4qaXX_VYFwL3"
      },
      "source": [
        "## **Problema 2**\n",
        "Considere la matriz de Hilbert $H(n)$ con $n=4,5,6,\\dots$."
      ]
    },
    {
      "cell_type": "markdown",
      "metadata": {
        "id": "hR6Z3sceF2zP"
      },
      "source": [
        "**1.** Para $n=5,6,7,\\dots$ calcule $\\lambda(n)$ el menor valor propio de $H(n)$. Grafique este vector."
      ]
    },
    {
      "cell_type": "markdown",
      "metadata": {
        "id": "9hRSn3SrF8xf"
      },
      "source": [
        "###<font color='red'><center><h2><b>*Solución*</font>"
      ]
    },
    {
      "cell_type": "code",
      "metadata": {
        "colab": {
          "base_uri": "https://localhost:8080/",
          "height": 327
        },
        "id": "bqjoSL60j8Rq",
        "outputId": "206c6dfe-3abf-4c21-d6a3-7a43e810d083"
      },
      "source": [
        "# Se crea una lista vacía en la que se colocarán los menores valores propios\n",
        "mineig = []\n",
        "\n",
        "# Se crea un ciclo para llenar la lista con los menores valores propios de la matriz de Hilbert del respectivo orden\n",
        "for i in range(5,20):\n",
        "  mineig.append(min(la.eig(hilbert(i))[0]))\n",
        "\n",
        "# Se grafica el vector\n",
        "plt.plot(mineig)"
      ],
      "execution_count": null,
      "outputs": [
        {
          "output_type": "stream",
          "text": [
            "/usr/local/lib/python3.7/dist-packages/numpy/core/_asarray.py:83: ComplexWarning: Casting complex values to real discards the imaginary part\n",
            "  return array(a, dtype, copy=False, order=order)\n"
          ],
          "name": "stderr"
        },
        {
          "output_type": "execute_result",
          "data": {
            "text/plain": [
              "[<matplotlib.lines.Line2D at 0x7fb2d06fc5d0>]"
            ]
          },
          "metadata": {
            "tags": []
          },
          "execution_count": 10
        },
        {
          "output_type": "display_data",
          "data": {
            "image/png": "[encoded data removed]",
            "text/plain": [
              "<Figure size 432x288 with 1 Axes>"
            ]
          },
          "metadata": {
            "tags": [],
            "needs_background": "light"
          }
        }
      ]
    },
    {
      "cell_type": "markdown",
      "metadata": {
        "id": "u3EQ067VGABa"
      },
      "source": [
        "**2.**   En clase vimos que al intentar hacer a factorización de Cholesky de $H(20)$ en Octave la factorización no fue completada llevando a la conclución de que la representación numérica de $H(20)$ no es definida positiva. Apareció el error \n",
        "```\n",
        "# error: chol : imput matrix must be positive definite\n",
        "```\n",
        "Verifique teoricamente si $H(n)$ es en realidad positiva definida (no necesita mostrar detalles aqui). Con ayuda del gráfico anterior y de lo estudiado sobre artimética de punto flotante explique esta situación."
      ]
    },
    {
      "cell_type": "markdown",
      "metadata": {
        "id": "iA7GeFP6GHV-"
      },
      "source": [
        "###<font color='red'><center><h2><b>*Solución*</font>"
      ]
    },
    {
      "cell_type": "markdown",
      "metadata": {
        "id": "YwxsddDfGJlW"
      },
      "source": [
        "*Considere la definición de la matriz de Hilbert como*\n",
        "\n",
        "$$\n",
        "H(n)=[h_{ij}]=\\begin{bmatrix} \\dfrac 1 {i + j - 1} \\end{bmatrix}\n",
        "$$"
      ]
    },
    {
      "cell_type": "markdown",
      "metadata": {
        "id": "uNTZNTJPtkMd"
      },
      "source": [
        "*Tome $X\\in\\mathcal{M}_{n,1}(\\mathbb{R})$, entonces como $H$ es simétrica:*\n",
        "\n",
        "$$\n",
        "{}^tXHX=\\sum_{1\\leq i,j\\leq n}\\frac{x_ix_j}{i+j-1}=\\sum_{1\\leq i,j\\leq n}x_ix_j\\int_0^1t^{i+j-2}dt=\\int_0^1\\left(\\sum_{i=1}^nx_it^{i-1}\\right)^2dt>0\n",
        "$$\n",
        "\n",
        "\n",
        "*Ahora, el código de error que se genera en Python, es el siguiente:*"
      ]
    },
    {
      "cell_type": "code",
      "metadata": {
        "colab": {
          "base_uri": "https://localhost:8080/",
          "height": 306
        },
        "id": "ky543uMYxlXl",
        "outputId": "42eb458d-7024-4a1c-9473-0e92ecd2bda4"
      },
      "source": [
        "la.cholesky(hilbert(20))"
      ],
      "execution_count": null,
      "outputs": [
        {
          "output_type": "error",
          "ename": "LinAlgError",
          "evalue": "ignored",
          "traceback": [
            "\u001b[0;31m---------------------------------------------------------------------------\u001b[0m",
            "\u001b[0;31mLinAlgError\u001b[0m                               Traceback (most recent call last)",
            "\u001b[0;32m<ipython-input-22-4b8272e0bbeb>\u001b[0m in \u001b[0;36m<module>\u001b[0;34m()\u001b[0m\n\u001b[0;32m----> 1\u001b[0;31m \u001b[0mla\u001b[0m\u001b[0;34m.\u001b[0m\u001b[0mcholesky\u001b[0m\u001b[0;34m(\u001b[0m\u001b[0mhilbert\u001b[0m\u001b[0;34m(\u001b[0m\u001b[0;36m20\u001b[0m\u001b[0;34m)\u001b[0m\u001b[0;34m)\u001b[0m\u001b[0;34m\u001b[0m\u001b[0;34m\u001b[0m\u001b[0m\n\u001b[0m",
            "\u001b[0;32m/usr/local/lib/python3.7/dist-packages/scipy/linalg/decomp_cholesky.py\u001b[0m in \u001b[0;36mcholesky\u001b[0;34m(a, lower, overwrite_a, check_finite)\u001b[0m\n\u001b[1;32m     89\u001b[0m     \"\"\"\n\u001b[1;32m     90\u001b[0m     c, lower = _cholesky(a, lower=lower, overwrite_a=overwrite_a, clean=True,\n\u001b[0;32m---> 91\u001b[0;31m                          check_finite=check_finite)\n\u001b[0m\u001b[1;32m     92\u001b[0m     \u001b[0;32mreturn\u001b[0m \u001b[0mc\u001b[0m\u001b[0;34m\u001b[0m\u001b[0;34m\u001b[0m\u001b[0m\n\u001b[1;32m     93\u001b[0m \u001b[0;34m\u001b[0m\u001b[0m\n",
            "\u001b[0;32m/usr/local/lib/python3.7/dist-packages/scipy/linalg/decomp_cholesky.py\u001b[0m in \u001b[0;36m_cholesky\u001b[0;34m(a, lower, overwrite_a, clean, check_finite)\u001b[0m\n\u001b[1;32m     38\u001b[0m     \u001b[0;32mif\u001b[0m \u001b[0minfo\u001b[0m \u001b[0;34m>\u001b[0m \u001b[0;36m0\u001b[0m\u001b[0;34m:\u001b[0m\u001b[0;34m\u001b[0m\u001b[0;34m\u001b[0m\u001b[0m\n\u001b[1;32m     39\u001b[0m         raise LinAlgError(\"%d-th leading minor of the array is not positive \"\n\u001b[0;32m---> 40\u001b[0;31m                           \"definite\" % info)\n\u001b[0m\u001b[1;32m     41\u001b[0m     \u001b[0;32mif\u001b[0m \u001b[0minfo\u001b[0m \u001b[0;34m<\u001b[0m \u001b[0;36m0\u001b[0m\u001b[0;34m:\u001b[0m\u001b[0;34m\u001b[0m\u001b[0;34m\u001b[0m\u001b[0m\n\u001b[1;32m     42\u001b[0m         raise ValueError('LAPACK reported an illegal value in {}-th argument'\n",
            "\u001b[0;31mLinAlgError\u001b[0m: 14-th leading minor of the array is not positive definite"
          ]
        }
      ]
    },
    {
      "cell_type": "markdown",
      "metadata": {
        "id": "GBItBinFyvce"
      },
      "source": [
        "*A partir del orden 14 se obtiene este error. Esto debido a la precisión de máquina con la que ejecuta las operacines Python, recordemos que cuando $n$ aumenta, el valor de la entrada en la matriz de Hilbert es muy pequeño, eventualmente 0 para la máquina, de manera que al momento de realizar la operación correspondiente a:*\n",
        "\n",
        "$$\n",
        "\\begin{eqnarray*}\n",
        "l_{kk} &=& \\sqrt{ a_{kk} - \\sum^{k-1}_{j=1} l^2_{kj}}\\\\\n",
        "l_{ik} &=& \\frac{1}{l_{kk}} \\left( a_{ik} - \\sum^{k-1}_{j=1} l_{ij} l_{kj} \\right), i > k\n",
        "\\end{eqnarray*}\n",
        "$$\n",
        "\n",
        "*se genera el error.*"
      ]
    },
    {
      "cell_type": "markdown",
      "metadata": {
        "id": "HWgAyJA5GKCW"
      },
      "source": [
        "**3.** Calcule $R(n)$ de la factorización de Cholesky de $H(n)=R(n)^TR(n)$ con $n=4,5,\\dots$. Presente un gráfico de $t(n)=tr(R(n))$ como evidencia del cálculo."
      ]
    },
    {
      "cell_type": "markdown",
      "metadata": {
        "id": "XV-ptS-9GMmJ"
      },
      "source": [
        "###<font color='red'><center><h2><b>*Solución*</font>"
      ]
    },
    {
      "cell_type": "code",
      "metadata": {
        "colab": {
          "base_uri": "https://localhost:8080/",
          "height": 282
        },
        "id": "Ui9_AZkj0pkO",
        "outputId": "dcc28adb-94fe-4d8b-e020-3ca333a191aa"
      },
      "source": [
        "# Se crea una lista vacía en la que se colocarán los valores de la traza\n",
        "traR = []\n",
        "\n",
        "# Se crea un ciclo para llenar la lista con los menores valores propios de la matriz de Hilbert del respectivo orden\n",
        "for i in range(4,13):\n",
        "  traR.append(np.matrix.trace(la.cholesky(hilbert(i))))\n",
        "\n",
        "# Se grafica el vector\n",
        "plt.plot(traR)"
      ],
      "execution_count": null,
      "outputs": [
        {
          "output_type": "execute_result",
          "data": {
            "text/plain": [
              "[<matplotlib.lines.Line2D at 0x7fb2c8f7c1d0>]"
            ]
          },
          "metadata": {
            "tags": []
          },
          "execution_count": 31
        },
        {
          "output_type": "display_data",
          "data": {
            "image/png": "[encoded data removed]",
            "text/plain": [
              "<Figure size 432x288 with 1 Axes>"
            ]
          },
          "metadata": {
            "tags": [],
            "needs_background": "light"
          }
        }
      ]
    },
    {
      "cell_type": "markdown",
      "metadata": {
        "id": "cEAlabIQGdwv"
      },
      "source": [
        "## **Problema 3**\n",
        "Considere la matriz de Hilbert $H(n)$ con $n=4,5,\\dots,20$. Existe una fórmula exacta para la inversa de $H(n)$, implemente esta fórmula. Con el comando de MatLab o Python para calcular la inversa calcule $G=inv(H(n))$. Compare y comente los resultados."
      ]
    },
    {
      "cell_type": "markdown",
      "metadata": {
        "id": "rnWUFwcHGhue"
      },
      "source": [
        "###<font color='red'><center><h2><b>*Solución*</font>"
      ]
    },
    {
      "cell_type": "code",
      "metadata": {
        "colab": {
          "base_uri": "https://localhost:8080/"
        },
        "id": "7w32Oonu0dxu",
        "outputId": "0977a368-f3d1-482a-a24b-9033d43efe15"
      },
      "source": [
        "# Se define la funcion para calcular la inversa de la matriz de Hilbert\n",
        "from math import factorial as ft\n",
        "def invHilbert(n):\n",
        "    Hinv = np.empty((n, n))\n",
        "    for i in range(1,n+1):\n",
        "        for j in range(1,n+1):\n",
        "            Hinv[i-1, j-1] = (((-1)**(i+j))*(ft(i+n-1))*(ft(j+n-1)))/(((ft(i-1))**2)*((ft(j-1))**2)*(ft(n-j))*(ft(n-i))*(i+j-1))\n",
        "    return Hinv\n",
        "\n",
        "# Para poder comparar los resultados, se compararn los tiempos de ejecución\n",
        "\n",
        "# Metodo implementado\n",
        "for i in range(4,20):\n",
        "  start_time = time.time()\n",
        "  invHilbert(i)\n",
        "  print(\"Tiempo para calcular la inversa de la matriz de Hilbert de orden\", i, \" con el método implementado: % segundos\" % (time.time() - start_time))\n",
        "\n",
        "print(\"\\n\")\n",
        "# Metodo de Python\n",
        "for i in range(4,20):\n",
        "  start_time = time.time()\n",
        "  la.invhilbert(i)\n",
        "  print(\"Tiempo para calcular la inversa de la matriz de Hilbert de orden\", i, \" con el método de Python: % segundos\" % (time.time() - start_time))\n"
      ],
      "execution_count": null,
      "outputs": [
        {
          "output_type": "stream",
          "text": [
            "Tiempo para calcular la inversa de la matriz de Hilbert de orden 4  con el método implementado: 5.698204040527344e-05egundos\n",
            "Tiempo para calcular la inversa de la matriz de Hilbert de orden 5  con el método implementado: 7.295608520507812e-05egundos\n",
            "Tiempo para calcular la inversa de la matriz de Hilbert de orden 6  con el método implementado: 7.462501525878906e-05egundos\n",
            "Tiempo para calcular la inversa de la matriz de Hilbert de orden 7  con el método implementado: 0.00010442733764648438egundos\n",
            "Tiempo para calcular la inversa de la matriz de Hilbert de orden 8  con el método implementado: 0.0001380443572998047egundos\n",
            "Tiempo para calcular la inversa de la matriz de Hilbert de orden 9  con el método implementado: 0.00019073486328125egundos\n",
            "Tiempo para calcular la inversa de la matriz de Hilbert de orden 10  con el método implementado: 0.00021886825561523438egundos\n",
            "Tiempo para calcular la inversa de la matriz de Hilbert de orden 11  con el método implementado: 0.0002770423889160156egundos\n",
            "Tiempo para calcular la inversa de la matriz de Hilbert de orden 12  con el método implementado: 0.00036334991455078125egundos\n",
            "Tiempo para calcular la inversa de la matriz de Hilbert de orden 13  con el método implementado: 0.00043201446533203125egundos\n",
            "Tiempo para calcular la inversa de la matriz de Hilbert de orden 14  con el método implementado: 0.0005037784576416016egundos\n",
            "Tiempo para calcular la inversa de la matriz de Hilbert de orden 15  con el método implementado: 0.0005881786346435547egundos\n",
            "Tiempo para calcular la inversa de la matriz de Hilbert de orden 16  con el método implementado: 0.0006744861602783203egundos\n",
            "Tiempo para calcular la inversa de la matriz de Hilbert de orden 17  con el método implementado: 0.0008008480072021484egundos\n",
            "Tiempo para calcular la inversa de la matriz de Hilbert de orden 18  con el método implementado: 0.0009057521820068359egundos\n",
            "Tiempo para calcular la inversa de la matriz de Hilbert de orden 19  con el método implementado: 0.0010557174682617188egundos\n",
            "\n",
            "\n",
            "Tiempo para calcular la inversa de la matriz de Hilbert de orden 4  con el método de Python: 0.0003292560577392578egundos\n",
            "Tiempo para calcular la inversa de la matriz de Hilbert de orden 5  con el método de Python: 0.0003120899200439453egundos\n",
            "Tiempo para calcular la inversa de la matriz de Hilbert de orden 6  con el método de Python: 0.0004527568817138672egundos\n",
            "Tiempo para calcular la inversa de la matriz de Hilbert de orden 7  con el método de Python: 0.0005669593811035156egundos\n",
            "Tiempo para calcular la inversa de la matriz de Hilbert de orden 8  con el método de Python: 0.0007998943328857422egundos\n",
            "Tiempo para calcular la inversa de la matriz de Hilbert de orden 9  con el método de Python: 0.0009157657623291016egundos\n",
            "Tiempo para calcular la inversa de la matriz de Hilbert de orden 10  con el método de Python: 0.0010652542114257812egundos\n",
            "Tiempo para calcular la inversa de la matriz de Hilbert de orden 11  con el método de Python: 0.0015130043029785156egundos\n",
            "Tiempo para calcular la inversa de la matriz de Hilbert de orden 12  con el método de Python: 0.0015447139739990234egundos\n",
            "Tiempo para calcular la inversa de la matriz de Hilbert de orden 13  con el método de Python: 0.001766204833984375egundos\n",
            "Tiempo para calcular la inversa de la matriz de Hilbert de orden 14  con el método de Python: 0.0020499229431152344egundos\n",
            "Tiempo para calcular la inversa de la matriz de Hilbert de orden 15  con el método de Python: 0.0023314952850341797egundos\n",
            "Tiempo para calcular la inversa de la matriz de Hilbert de orden 16  con el método de Python: 0.0025975704193115234egundos\n",
            "Tiempo para calcular la inversa de la matriz de Hilbert de orden 17  con el método de Python: 0.0029234886169433594egundos\n",
            "Tiempo para calcular la inversa de la matriz de Hilbert de orden 18  con el método de Python: 0.0032405853271484375egundos\n",
            "Tiempo para calcular la inversa de la matriz de Hilbert de orden 19  con el método de Python: 0.003621339797973633egundos\n"
          ],
          "name": "stdout"
        }
      ]
    },
    {
      "cell_type": "markdown",
      "metadata": {
        "id": "l-kmXuPYIg3Y"
      },
      "source": [
        "*Resulta curioso, por demás, que el método implementado sea el que se ejecute más rápido, ahora, para vereificar esto, comparemos dos resultados de la inversa de la matriz de Hilbert:*"
      ]
    },
    {
      "cell_type": "code",
      "metadata": {
        "colab": {
          "base_uri": "https://localhost:8080/"
        },
        "id": "2dpS3-3AIrTL",
        "outputId": "249297bc-53c8-4ccc-ab2d-e74d4bf64603"
      },
      "source": [
        "invHilbert(4)"
      ],
      "execution_count": null,
      "outputs": [
        {
          "output_type": "execute_result",
          "data": {
            "text/plain": [
              "array([[ 16.0000, -120.0000,  240.0000, -140.0000],\n",
              "       [-120.0000,  1200.0000, -2700.0000,  1680.0000],\n",
              "       [ 240.0000, -2700.0000,  6480.0000, -4200.0000],\n",
              "       [-140.0000,  1680.0000, -4200.0000,  2800.0000]])"
            ]
          },
          "metadata": {
            "tags": []
          },
          "execution_count": 72
        }
      ]
    },
    {
      "cell_type": "code",
      "metadata": {
        "colab": {
          "base_uri": "https://localhost:8080/"
        },
        "id": "A1QtVOP0It0N",
        "outputId": "0e6a2d71-bedb-4176-9870-e3953e13419a"
      },
      "source": [
        "la.invhilbert(4)"
      ],
      "execution_count": null,
      "outputs": [
        {
          "output_type": "execute_result",
          "data": {
            "text/plain": [
              "array([[ 16.0000, -120.0000,  240.0000, -140.0000],\n",
              "       [-120.0000,  1200.0000, -2700.0000,  1680.0000],\n",
              "       [ 240.0000, -2700.0000,  6480.0000, -4200.0000],\n",
              "       [-140.0000,  1680.0000, -4200.0000,  2800.0000]])"
            ]
          },
          "metadata": {
            "tags": []
          },
          "execution_count": 73
        }
      ]
    },
    {
      "cell_type": "markdown",
      "metadata": {
        "id": "4PH_MnldGPau"
      },
      "source": [
        "## **Problema 4.1**\n",
        "Considere la matriz en https://suitesparse-collection-website.herokuapp.com/Sybrandt/AGATHA_2015. Gráfique el patrón de dispersión de esta matriz. Liste (con justificación numérica) las propiedades de esta matriz. "
      ]
    },
    {
      "cell_type": "markdown",
      "metadata": {
        "id": "Xdz2bDvlGVhm"
      },
      "source": [
        "###<font color='red'><center><h2><b>*Solución*</font>"
      ]
    },
    {
      "cell_type": "markdown",
      "metadata": {
        "id": "E58HQZtyysmQ"
      },
      "source": [
        "*Por cuestiones de capacidad computacoinal, y garantizando la solución del sistema en la siguiente sección, escogí la matriz en https://suitesparse-collection-website.herokuapp.com/mat/Norris/fv1.mat*"
      ]
    },
    {
      "cell_type": "code",
      "metadata": {
        "colab": {
          "base_uri": "https://localhost:8080/"
        },
        "id": "RrBpaaNXruXR",
        "outputId": "eaced335-b3da-46d6-d42e-7d55793a1793"
      },
      "source": [
        "import requests\n",
        "# Import to a python dictionary\n",
        "url = \"https://suitesparse-collection-website.herokuapp.com/mat/Norris/fv1.mat\"\n",
        "file = requests.get(url, allow_redirects=True)\n",
        "\n",
        "open('fv1.mat', 'wb').write(file.content)"
      ],
      "execution_count": null,
      "outputs": [
        {
          "output_type": "execute_result",
          "data": {
            "text/plain": [
              "80938"
            ]
          },
          "metadata": {
            "tags": []
          },
          "execution_count": 10
        }
      ]
    },
    {
      "cell_type": "code",
      "metadata": {
        "colab": {
          "base_uri": "https://localhost:8080/",
          "height": 612
        },
        "id": "7ZxAirRArwPF",
        "outputId": "d7eb91eb-7df7-4bf9-8b41-e168e3d58f02"
      },
      "source": [
        "mat = io.loadmat('fv1.mat')\n",
        "#print(mat)\n",
        "A = mat['Problem']['A']\n",
        "B = A[0]\n",
        "C = B[0]\n",
        "D = sp.csr_matrix.toarray(C)\n",
        "print(type(D))\n",
        "plt.figure(figsize=(10, 10))\n",
        "plt.spy(D)\n",
        "plt.show()"
      ],
      "execution_count": null,
      "outputs": [
        {
          "output_type": "stream",
          "text": [
            "<class 'numpy.ndarray'>\n"
          ],
          "name": "stdout"
        },
        {
          "output_type": "display_data",
          "data": {
            "image/png": "[encoded data removed]",
            "text/plain": [
              "<Figure size 720x720 with 1 Axes>"
            ]
          },
          "metadata": {
            "tags": [],
            "needs_background": "light"
          }
        }
      ]
    },
    {
      "cell_type": "markdown",
      "metadata": {
        "id": "XS21z-wTGYAH"
      },
      "source": [
        "*Algunas de las propiedades de esta matriz son:*"
      ]
    },
    {
      "cell_type": "markdown",
      "metadata": {
        "id": "5w3NHRrLGYbJ"
      },
      "source": [
        "## **Problema 4.2**\n",
        "Considere la matriz en https://suitesparse-collection-website.herokuapp.com/Sybrandt/AGATHA_2015. Use un método iterativo (diferente de Jacobi) para resolver el sistema $Ax=b$\n",
        "con $b=(1,1,\\dots,1)$. "
      ]
    },
    {
      "cell_type": "markdown",
      "metadata": {
        "id": "yI1dwIhGHBUn"
      },
      "source": [
        "###<font color='red'><center><h2><b>*Solución*</font>"
      ]
    },
    {
      "cell_type": "markdown",
      "metadata": {
        "id": "PV4aDXZYHEP-"
      },
      "source": [
        "*Por cuestiones de capacidad computacoinal, escogí la matriz en https://suitesparse-collection-website.herokuapp.com/mat/Norris/fv1.mat*"
      ]
    },
    {
      "cell_type": "code",
      "metadata": {
        "colab": {
          "base_uri": "https://localhost:8080/"
        },
        "id": "UQ4mDDT2MC-x",
        "outputId": "33b889cb-4115-4535-cdbb-ad1d63d63db6"
      },
      "source": [
        "import requests\n",
        "# Import to a python dictionary\n",
        "url = \"https://suitesparse-collection-website.herokuapp.com/mat/Norris/fv1.mat\"\n",
        "file = requests.get(url, allow_redirects=True)\n",
        "\n",
        "open('fv1.mat', 'wb').write(file.content)"
      ],
      "execution_count": null,
      "outputs": [
        {
          "output_type": "execute_result",
          "data": {
            "text/plain": [
              "80938"
            ]
          },
          "metadata": {
            "tags": []
          },
          "execution_count": 12
        }
      ]
    },
    {
      "cell_type": "code",
      "metadata": {
        "id": "r-5jtdNkME02"
      },
      "source": [
        "mat = io.loadmat('fv1.mat')\n",
        "A = np.array(sp.csr_matrix.toarray(((mat['Problem']['A'])[0])[0]))"
      ],
      "execution_count": null,
      "outputs": []
    },
    {
      "cell_type": "markdown",
      "metadata": {
        "id": "MDw83ihPj5Wt"
      },
      "source": [
        "*Para poder realizar este ejercicio, se consideraron muchas matrices sin éxito en la convergencia del método. Por esto, primero tomé el mismo código realizado por el profesor para verificar sí se tenía o no la convergencia, posteriormente plantée una función que permitiera resolver el sistema pero con el método de Gaus-Seidel. No obstante, el tiempo de ejecución, fue muy demorado, por lo que decidí dejar este código con el método de Jacobi e interrumpir el procedimiento del método de Gauss-Seidel.*"
      ]
    },
    {
      "cell_type": "code",
      "metadata": {
        "colab": {
          "base_uri": "https://localhost:8080/"
        },
        "id": "hTik--d4gW02",
        "outputId": "556a0948-6028-4242-df9f-1f9bbaae5da6"
      },
      "source": [
        "def jacobisolver(A,b,tol,Maxiter=25,x=None):\n",
        "    # x inicial en caso no se tenga                                                                                                                                                            \n",
        "    if x is None:\n",
        "        x = zeros(len(A[0]))\n",
        "    #A=D-L-U y R=A-D=-L-U;                                                                                                                                                                \n",
        "    D = np.diag(A)\n",
        "\n",
        "    #Interation                                                                                                                                                                          \n",
        "    for i in range(Maxiter):\n",
        "        r=b-np.dot(A,x)\n",
        "        nr=la.norm(r)\n",
        "        print('norm(r(',i,'))=',nr)\n",
        "        if nr<tol:\n",
        "          break        \n",
        "        delta=r/D\n",
        "        x = x+delta\n",
        "    return x\n",
        "\n",
        "b = np.ones(len(A))\n",
        "guess = np.ones(len(A))\n",
        "sol = jacobisolver(A,b,0.00001,Maxiter=100,x=guess)\n",
        "\n",
        "print(\"A:\")\n",
        "print(A)\n",
        "\n",
        "print(\"b:\")\n",
        "print(b)\n",
        "\n",
        "print (\"x:\")\n",
        "print(sol)"
      ],
      "execution_count": null,
      "outputs": [
        {
          "output_type": "stream",
          "text": [
            "norm(r( 0 ))= 48.14227740822836\n",
            "norm(r( 1 ))= 39.444101272150554\n",
            "norm(r( 2 ))= 33.48799383058759\n",
            "norm(r( 3 ))= 28.51089628887762\n",
            "norm(r( 4 ))= 24.28941656407532\n",
            "norm(r( 5 ))= 20.698429963979926\n",
            "norm(r( 6 ))= 17.64098447174745\n",
            "norm(r( 7 ))= 15.036774457971074\n",
            "norm(r( 8 ))= 12.818114914859821\n",
            "norm(r( 9 ))= 10.927634216154486\n",
            "norm(r( 10 ))= 9.316595097406218\n",
            "norm(r( 11 ))= 7.943552895513094\n",
            "norm(r( 12 ))= 6.773244698366487\n",
            "norm(r( 13 ))= 5.775656648732947\n",
            "norm(r( 14 ))= 4.925236062796101\n",
            "norm(r( 15 ))= 4.200223949745486\n",
            "norm(r( 16 ))= 3.5820886610958467\n",
            "norm(r( 17 ))= 3.055044904714076\n",
            "norm(r( 18 ))= 2.605645005514372\n",
            "norm(r( 19 ))= 2.222431404528784\n",
            "norm(r( 20 ))= 1.8956411168619134\n",
            "norm(r( 21 ))= 1.6169543060597327\n",
            "norm(r( 22 ))= 1.3792803361086958\n",
            "norm(r( 23 ))= 1.1765756749645473\n",
            "norm(r( 24 ))= 1.0036888777991229\n",
            "norm(r( 25 ))= 0.8562286001227792\n",
            "norm(r( 26 ))= 0.730451201873952\n",
            "norm(r( 27 ))= 0.6231650210440621\n",
            "norm(r( 28 ))= 0.531648834069108\n",
            "norm(r( 29 ))= 0.4535823923121078\n",
            "norm(r( 30 ))= 0.38698723975812105\n",
            "norm(r( 31 ))= 0.3301762851916341\n",
            "norm(r( 32 ))= 0.28171082990663576\n",
            "norm(r( 33 ))= 0.24036394556371032\n",
            "norm(r( 34 ))= 0.20508926134575473\n",
            "norm(r( 35 ))= 0.17499435947117817\n",
            "norm(r( 36 ))= 0.1493180971170282\n",
            "norm(r( 37 ))= 0.12741127403518723\n",
            "norm(r( 38 ))= 0.1087201512821054\n",
            "norm(r( 39 ))= 0.0927723997920037\n",
            "norm(r( 40 ))= 0.07916511992547552\n",
            "norm(r( 41 ))= 0.06755462625224767\n",
            "norm(r( 42 ))= 0.05764773706341449\n",
            "norm(r( 43 ))= 0.04919434663206683\n",
            "norm(r( 44 ))= 0.04198109105193604\n",
            "norm(r( 45 ))= 0.03582594643234477\n",
            "norm(r( 46 ))= 0.03057362203694216\n",
            "norm(r( 47 ))= 0.026091631238807828\n",
            "norm(r( 48 ))= 0.022266940448844235\n",
            "norm(r( 49 ))= 0.019003110902713075\n",
            "norm(r( 50 ))= 0.016217860743300807\n",
            "norm(r( 51 ))= 0.013840985533297993\n",
            "norm(r( 52 ))= 0.011812584449789752\n",
            "norm(r( 53 ))= 0.010081547185082047\n",
            "norm(r( 54 ))= 0.008604263202474581\n",
            "norm(r( 55 ))= 0.00734352064378421\n",
            "norm(r( 56 ))= 0.0062675670001893485\n",
            "norm(r( 57 ))= 0.005349307762923096\n",
            "norm(r( 58 ))= 0.004565622770673781\n",
            "norm(r( 59 ))= 0.0038967829546555323\n",
            "norm(r( 60 ))= 0.003325952727368732\n",
            "norm(r( 61 ))= 0.002838765430874452\n",
            "norm(r( 62 ))= 0.0024229611110567735\n",
            "norm(r( 63 ))= 0.0020680774624787825\n",
            "norm(r( 64 ))= 0.0017651861342923437\n",
            "norm(r( 65 ))= 0.001506667735557531\n",
            "norm(r( 66 ))= 0.0012860198572699321\n",
            "norm(r( 67 ))= 0.0010976932634968674\n",
            "norm(r( 68 ))= 0.0009369521160989068\n",
            "norm(r( 69 ))= 0.0007997547051629384\n",
            "norm(r( 70 ))= 0.0006826516753160635\n",
            "norm(r( 71 ))= 0.0005826991802097573\n",
            "norm(r( 72 ))= 0.0004973847744924667\n",
            "norm(r( 73 ))= 0.000424564174212693\n",
            "norm(r( 74 ))= 0.00036240729107497806\n",
            "norm(r( 75 ))= 0.0003093521799022705\n",
            "norm(r( 76 ))= 0.00026406573859428644\n",
            "norm(r( 77 ))= 0.0002254101699843166\n",
            "norm(r( 78 ))= 0.00019241436057190457\n",
            "norm(r( 79 ))= 0.00016424945494990147\n",
            "norm(r( 80 ))= 0.00014020801068482372\n",
            "norm(r( 81 ))= 0.000119686208585858\n",
            "norm(r( 82 ))= 0.00010216867037390209\n",
            "norm(r( 83 ))= 8.721550143373427e-05\n",
            "norm(r( 84 ))= 7.445123246529893e-05\n",
            "norm(r( 85 ))= 6.355538164711274e-05\n",
            "norm(r( 86 ))= 5.42543997435106e-05\n",
            "norm(r( 87 ))= 4.631479548275714e-05\n",
            "norm(r( 88 ))= 3.953726816468128e-05\n",
            "norm(r( 89 ))= 3.375169993223804e-05\n",
            "norm(r( 90 ))= 2.8812881672546492e-05\n",
            "norm(r( 91 ))= 2.4596865055222844e-05\n",
            "norm(r( 92 ))= 2.0997848960242626e-05\n",
            "norm(r( 93 ))= 1.792552199994531e-05\n",
            "norm(r( 94 ))= 1.5302794269425733e-05\n",
            "norm(r( 95 ))= 1.306386134811903e-05\n",
            "norm(r( 96 ))= 1.1152551839879418e-05\n",
            "norm(r( 97 ))= 9.520916928064172e-06\n",
            "A:\n",
            "[[ 3.5102 -0.5000  0.0000 ...  0.0000  0.0000  0.0000]\n",
            " [-0.5000  3.5102 -0.5000 ...  0.0000  0.0000  0.0000]\n",
            " [ 0.0000 -0.5000  3.5102 ...  0.0000  0.0000  0.0000]\n",
            " ...\n",
            " [ 0.0000  0.0000  0.0000 ...  3.5102 -0.5000  0.0000]\n",
            " [ 0.0000  0.0000  0.0000 ... -0.5000  3.5102 -0.5000]\n",
            " [ 0.0000  0.0000  0.0000 ...  0.0000 -0.5000  3.5102]]\n",
            "b:\n",
            "[ 1.0000  1.0000  1.0000 ...  1.0000  1.0000  1.0000]\n",
            "x:\n",
            "[ 0.6045  0.8250  0.9154 ...  0.9154  0.8250  0.6045]\n"
          ],
          "name": "stdout"
        }
      ]
    },
    {
      "cell_type": "code",
      "metadata": {
        "colab": {
          "base_uri": "https://localhost:8080/"
        },
        "id": "i014dxoDMzxd",
        "outputId": "956debc0-3c26-4767-89fd-77f6b42d23b0"
      },
      "source": [
        "def gseidsolver(A,b,tol,Maxiter=25,x=None):\n",
        "    # x inicial en caso no se tenga                                                                                                                                                            \n",
        "    if x is None:\n",
        "        x = zeros(len(A[0]))\n",
        "    #A=D-L-U y R=A-D=-L-U;                                                                                                                                                                \n",
        "    Q = np.tril(A)\n",
        "\n",
        "    #Interation                                                                                                                                                                          \n",
        "    for i in range(Maxiter):\n",
        "        r = b - np.dot(A,x)\n",
        "        nr = la.norm(r)\n",
        "        print('norm(r(',i,'))=',nr)\n",
        "        if nr < tol:\n",
        "          break        \n",
        "        delta = np.dot(la.inv(Q), r)\n",
        "        x = x + delta\n",
        "    return x\n",
        "\n",
        "b = np.ones(len(A[0]))\n",
        "guess = np.ones(len(A[0]))\n",
        "sol = gseidsolver(A, b, 0.00001, Maxiter=1000, x = guess)\n",
        "\n",
        "print(\"A:\")\n",
        "print(A)\n",
        "\n",
        "print(\"b:\")\n",
        "print(b)\n",
        "\n",
        "print (\"x:\")\n",
        "print(sol)"
      ],
      "execution_count": null,
      "outputs": [
        {
          "output_type": "stream",
          "text": [
            "norm(r( 0 ))= 48.14227740822836\n",
            "norm(r( 1 ))= 34.3803885278264\n",
            "norm(r( 2 ))= 25.452524680553307\n",
            "norm(r( 3 ))= 18.892634519045945\n",
            "norm(r( 4 ))= 14.031166070431754\n",
            "norm(r( 5 ))= 10.423350839097669\n",
            "norm(r( 6 ))= 7.744635888146763\n",
            "norm(r( 7 ))= 5.755206082105732\n",
            "norm(r( 8 ))= 4.2773848877538105\n",
            "norm(r( 9 ))= 3.179411943534126\n",
            "norm(r( 10 ))= 2.3635288674085566\n",
            "norm(r( 11 ))= 1.7571793852333895\n",
            "norm(r( 12 ))= 1.3064970798531852\n"
          ],
          "name": "stdout"
        }
      ]
    },
    {
      "cell_type": "markdown",
      "metadata": {
        "id": "VN_0lhLoHH1O"
      },
      "source": [
        "## **Problema 5** \n",
        "Considere la matriz https://suitesparse-collection-website.herokuapp.com/Sybrandt/AGATHA_2015.  ¿Qué puede decir del problema asociado a esta matriz? "
      ]
    },
    {
      "cell_type": "markdown",
      "metadata": {
        "id": "Em2yCWT9HNSG"
      },
      "source": [
        "###<font color='red'><center><h2><b>*Solución*</font>"
      ]
    },
    {
      "cell_type": "markdown",
      "metadata": {
        "id": "_wyabfbUHPj9"
      },
      "source": [
        "*Por cuestiones de capacidad computacoinal, escogí la matriz en https://suitesparse-collection-website.herokuapp.com/mat/HB/jagmesh9.mat*"
      ]
    },
    {
      "cell_type": "code",
      "metadata": {
        "colab": {
          "base_uri": "https://localhost:8080/"
        },
        "id": "ESKpW74uzUH5",
        "outputId": "4ec03ba1-4f60-4bd8-f44a-649009a63c40"
      },
      "source": [
        "import requests\n",
        "# Import to a python dictionary\n",
        "url = \"https://suitesparse-collection-website.herokuapp.com/mat/HB/jagmesh9.mat\"\n",
        "file = requests.get(url, allow_redirects=True)\n",
        "\n",
        "open('jagmesh9.mat', 'wb').write(file.content)"
      ],
      "execution_count": null,
      "outputs": [
        {
          "output_type": "execute_result",
          "data": {
            "text/plain": [
              "11781"
            ]
          },
          "metadata": {
            "tags": []
          },
          "execution_count": 18
        }
      ]
    },
    {
      "cell_type": "markdown",
      "metadata": {
        "id": "UXxOutsYzzLF"
      },
      "source": [
        "*Considere su patrón de dispersión:*"
      ]
    },
    {
      "cell_type": "code",
      "metadata": {
        "colab": {
          "base_uri": "https://localhost:8080/",
          "height": 612
        },
        "id": "4XIXq3MHzb3c",
        "outputId": "dbd2b5f1-2eb2-44d3-c542-c67d0cea662b"
      },
      "source": [
        "mat = io.loadmat('jagmesh9.mat')\n",
        "#print(mat)\n",
        "A = mat['Problem']['A']\n",
        "B = A[0]\n",
        "C = B[0]\n",
        "D = sp.csr_matrix.toarray(C)\n",
        "print(type(D))\n",
        "plt.figure(figsize=(10, 10))\n",
        "plt.spy(D)\n",
        "plt.show()"
      ],
      "execution_count": null,
      "outputs": [
        {
          "output_type": "stream",
          "text": [
            "<class 'numpy.ndarray'>\n"
          ],
          "name": "stdout"
        },
        {
          "output_type": "display_data",
          "data": {
            "image/png": "[encoded data removed]",
            "text/plain": [
              "<Figure size 720x720 with 1 Axes>"
            ]
          },
          "metadata": {
            "tags": [],
            "needs_background": "light"
          }
        }
      ]
    },
    {
      "cell_type": "markdown",
      "metadata": {
        "id": "YY_pVxXVz6Ht"
      },
      "source": [
        "*El problema asociado a esta matriz corresponde a uno de los problemas propuestos en el libro ACM Transactions on Mathematical Software, en la sección de matrices dispersas. No logré acceder al libro pero parece que se creó una librería completa de matrices dispersas para la implementación de diferentes algoritmos y esta particularmente en el proceso de transoformaciones de formato de imagen de 2D a 3D.*"
      ]
    },
    {
      "cell_type": "markdown",
      "metadata": {
        "id": "tCV9tMoWHlR5"
      },
      "source": [
        "## **Referencias**\n",
        "\n",
        "*   Kincaid, D., & Cheney, W. (2021). Numerical Analysis: Mathematics of Scientific Computing (The Sally Series; Pure and Applied Undergraduate Texts, Vol. 2) (3rd Revised edition). American Mathematical Society.\n",
        "*   Documentation — SciPy.org. (n.d.). SciPy.Org Documentation. Retrieved August 2, 2021, from https://www.scipy.org/docs.html\n",
        "*   SuiteSparse Matrix Collection. (n.d.). Suite Sparse Matrix Collection. Retrieved August 2, 2021, from https://sparse.tamu.edu/\n",
        "*   Duff, I. S. and R. G. Grimes and J. G. Lewis,\n",
        "Sparse Matrix Problems, ACM Trans. on Mathematical Software,\n",
        "vol 14, no. 1, pp 1-14, 1989.\n",
        "\n"
      ]
    }
  ]
}